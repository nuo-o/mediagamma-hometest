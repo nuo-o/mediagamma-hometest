{
 "cells": [
  {
   "cell_type": "code",
   "execution_count": 1,
   "metadata": {},
   "outputs": [],
   "source": [
    "from my_packages import *\n",
    "%matplotlib inline\n",
    "\n",
    "data_folder = './data/'\n",
    "pd.options.mode.chained_assignment = None\n",
    "time_tracking = Time_Tracking()"
   ]
  },
  {
   "cell_type": "markdown",
   "metadata": {},
   "source": [
    "# prepare data"
   ]
  },
  {
   "cell_type": "code",
   "execution_count": 3,
   "metadata": {},
   "outputs": [
    {
     "name": "stdout",
     "output_type": "stream",
     "text": [
      "Time used: 3.2  minutes\n"
     ]
    }
   ],
   "source": [
    "time_tracking.start_tracking()\n",
    "dtypes = {'ip':'uint32','app':'uint16','device':'uint16','os':'uint16','channel':'uint16','is_attributed' : 'uint8'}\n",
    "train_raw = pd.read_csv(data_folder + 'train.csv', dtype = dtypes)\n",
    "gc.collect()\n",
    "time_tracking.stop_tracking()"
   ]
  },
  {
   "cell_type": "code",
   "execution_count": 4,
   "metadata": {},
   "outputs": [
    {
     "data": {
      "text/plain": [
       "0"
      ]
     },
     "execution_count": 4,
     "metadata": {},
     "output_type": "execute_result"
    }
   ],
   "source": [
    "# train, evaluate split \n",
    "data_index = np.arange(len(train_raw))\n",
    "np.random.seed(123)\n",
    "np.random.shuffle(data_index)\n",
    "\n",
    "split_index = int(len(train_raw) * 0.7)\n",
    "train_df, evaluate_df = train_raw.iloc[data_index[:split_index]], train_raw.iloc[data_index[split_index:]]\n",
    "gc.collect()"
   ]
  },
  {
   "cell_type": "markdown",
   "metadata": {},
   "source": [
    "# train and cross-validate"
   ]
  },
  {
   "cell_type": "code",
   "execution_count": 5,
   "metadata": {},
   "outputs": [
    {
     "name": "stdout",
     "output_type": "stream",
     "text": [
      "Time used: 3.16  minutes\n"
     ]
    }
   ],
   "source": [
    "time_tracking.start_tracking()\n",
    "\n",
    "our_model = MyXgbModel()\n",
    "make_feat_param = {'sample_ratio':1, 'has_target':True, 'do_sample':True}\n",
    "\n",
    "train_feat = our_model.make_feat_pipeline(train_df, make_feat_param)\n",
    "gc.collect()\n",
    "\n",
    "time_tracking.stop_tracking()"
   ]
  },
  {
   "cell_type": "code",
   "execution_count": 6,
   "metadata": {},
   "outputs": [
    {
     "name": "stdout",
     "output_type": "stream",
     "text": [
      "train cross-validation auc = 0.9371\n"
     ]
    }
   ],
   "source": [
    "train_param = {'eval_metric':'auc'}\n",
    "train_x = train_feat.drop(['click_time', 'attributed_time', 'is_attributed', 'os', 'device'], axis = 1)\n",
    "train_y = train_feat['is_attributed']\n",
    "\n",
    "train_cv, feat_importance = our_model.train(train_x, train_y, train_param)\n",
    "gc.collect()\n",
    "print('train cross-validation auc = {}'.format(round(train_cv,4)))"
   ]
  },
  {
   "cell_type": "code",
   "execution_count": 10,
   "metadata": {},
   "outputs": [],
   "source": [
    "our_model.dump_model('xgboost_9371.dat')"
   ]
  },
  {
   "cell_type": "code",
   "execution_count": 11,
   "metadata": {},
   "outputs": [],
   "source": [
    "# our_model = our_model.load_model('xgboost_9371.dat')"
   ]
  },
  {
   "cell_type": "code",
   "execution_count": 23,
   "metadata": {},
   "outputs": [],
   "source": [
    "# plt.bar(range(len(feat_importance)), feat_importance)\n",
    "# plt.xticks(range(len(feat_importance)), train_x.columns, rotation='vertical')\n",
    "# plt.title('feature importance')\n",
    "\n",
    "# time_tracking.stop_tracking()"
   ]
  },
  {
   "cell_type": "markdown",
   "metadata": {},
   "source": [
    "# test"
   ]
  },
  {
   "cell_type": "code",
   "execution_count": 2,
   "metadata": {},
   "outputs": [
    {
     "data": {
      "text/plain": [
       "XGBClassifier(base_score=0.5, booster='gbtree', colsample_bylevel=1,\n",
       "       colsample_bytree=1, eval_metric='auc', gamma=0, learning_rate=0.1,\n",
       "       max_delta_step=0, max_depth=3, min_child_weight=1, missing=nan,\n",
       "       n_estimators=100, n_jobs=1, nthread=None,\n",
       "       objective='binary:logistic', random_state=0, reg_alpha=0,\n",
       "       reg_lambda=1, scale_pos_weight=1, seed=None, silent=True,\n",
       "       subsample=1)"
      ]
     },
     "execution_count": 2,
     "metadata": {},
     "output_type": "execute_result"
    }
   ],
   "source": [
    "# load model\n",
    "our_model = MyXgbModel()\n",
    "our_model.load_model('xgboost_9371.dat')"
   ]
  },
  {
   "cell_type": "code",
   "execution_count": 68,
   "metadata": {},
   "outputs": [
    {
     "name": "stdout",
     "output_type": "stream",
     "text": [
      "Time used: 0.36  minutes\n"
     ]
    }
   ],
   "source": [
    "# read test raw file\n",
    "time_tracking.start_tracking()\n",
    "test_raw = pd.read_csv(data_folder + 'test.csv')\n",
    "time_tracking.stop_tracking()"
   ]
  },
  {
   "cell_type": "code",
   "execution_count": 69,
   "metadata": {},
   "outputs": [
    {
     "name": "stdout",
     "output_type": "stream",
     "text": [
      "Time used: 6.0  minutes\n"
     ]
    }
   ],
   "source": [
    "gc.collect()\n",
    "time_tracking.start_tracking()\n",
    "\n",
    "hour = []\n",
    "for t in test_raw['click_time']:\n",
    "    h = datetime.strptime(t, \"%Y-%m-%d %H:%M:%S\").hour\n",
    "    hour.extend([h])\n",
    "    \n",
    "time_tracking.stop_tracking()"
   ]
  },
  {
   "cell_type": "code",
   "execution_count": 70,
   "metadata": {},
   "outputs": [
    {
     "name": "stdout",
     "output_type": "stream",
     "text": [
      "Time used: 0.99  minutes\n"
     ]
    }
   ],
   "source": [
    "time_tracking.start_tracking()\n",
    "\n",
    "test_raw['click_time_hour'] = hour\n",
    "test_feat = test_raw[['ip','app', 'channel', 'click_time_hour']]\n",
    "prediction = our_model.predict(test_feat)\n",
    "\n",
    "time_tracking.stop_tracking()"
   ]
  },
  {
   "cell_type": "code",
   "execution_count": 71,
   "metadata": {},
   "outputs": [],
   "source": [
    "import os\n"
   ]
  },
  {
   "cell_type": "code",
   "execution_count": 72,
   "metadata": {},
   "outputs": [
    {
     "name": "stdout",
     "output_type": "stream",
     "text": [
      "Time used: 1.17  minutes\n"
     ]
    }
   ],
   "source": [
    "time_tracking.start_tracking()\n",
    "\n",
    "result = pd.DataFrame({'click_id':test_raw['click_id'], 'is_attributed':prediction})\n",
    "result.to_csv(data_folder + 'result.csv', index = False)\n",
    "\n",
    "time_tracking.stop_tracking()"
   ]
  },
  {
   "cell_type": "code",
   "execution_count": 75,
   "metadata": {},
   "outputs": [
    {
     "data": {
      "text/html": [
       "<div>\n",
       "<style scoped>\n",
       "    .dataframe tbody tr th:only-of-type {\n",
       "        vertical-align: middle;\n",
       "    }\n",
       "\n",
       "    .dataframe tbody tr th {\n",
       "        vertical-align: top;\n",
       "    }\n",
       "\n",
       "    .dataframe thead th {\n",
       "        text-align: right;\n",
       "    }\n",
       "</style>\n",
       "<table border=\"1\" class=\"dataframe\">\n",
       "  <thead>\n",
       "    <tr style=\"text-align: right;\">\n",
       "      <th></th>\n",
       "      <th>click_id</th>\n",
       "      <th>is_attributed</th>\n",
       "    </tr>\n",
       "  </thead>\n",
       "  <tbody>\n",
       "    <tr>\n",
       "      <th>18790464</th>\n",
       "      <td>18790464</td>\n",
       "      <td>0.194290</td>\n",
       "    </tr>\n",
       "    <tr>\n",
       "      <th>18790465</th>\n",
       "      <td>18790465</td>\n",
       "      <td>0.066327</td>\n",
       "    </tr>\n",
       "    <tr>\n",
       "      <th>18790466</th>\n",
       "      <td>18790467</td>\n",
       "      <td>0.110843</td>\n",
       "    </tr>\n",
       "    <tr>\n",
       "      <th>18790467</th>\n",
       "      <td>18790466</td>\n",
       "      <td>0.101524</td>\n",
       "    </tr>\n",
       "    <tr>\n",
       "      <th>18790468</th>\n",
       "      <td>18790468</td>\n",
       "      <td>0.033733</td>\n",
       "    </tr>\n",
       "  </tbody>\n",
       "</table>\n",
       "</div>"
      ],
      "text/plain": [
       "          click_id  is_attributed\n",
       "18790464  18790464       0.194290\n",
       "18790465  18790465       0.066327\n",
       "18790466  18790467       0.110843\n",
       "18790467  18790466       0.101524\n",
       "18790468  18790468       0.033733"
      ]
     },
     "execution_count": 75,
     "metadata": {},
     "output_type": "execute_result"
    }
   ],
   "source": [
    "result.tail()"
   ]
  },
  {
   "cell_type": "code",
   "execution_count": 74,
   "metadata": {},
   "outputs": [
    {
     "data": {
      "text/plain": [
       "0"
      ]
     },
     "execution_count": 74,
     "metadata": {},
     "output_type": "execute_result"
    }
   ],
   "source": [
    "os.system('say \"your program has finished\"')"
   ]
  },
  {
   "cell_type": "code",
   "execution_count": null,
   "metadata": {},
   "outputs": [],
   "source": []
  }
 ],
 "metadata": {
  "kernelspec": {
   "display_name": "Python 3",
   "language": "python",
   "name": "python3"
  },
  "language_info": {
   "codemirror_mode": {
    "name": "ipython",
    "version": 3
   },
   "file_extension": ".py",
   "mimetype": "text/x-python",
   "name": "python",
   "nbconvert_exporter": "python",
   "pygments_lexer": "ipython3",
   "version": "3.6.2"
  },
  "toc": {
   "base_numbering": 1,
   "nav_menu": {},
   "number_sections": true,
   "sideBar": true,
   "skip_h1_title": false,
   "title_cell": "Table of Contents",
   "title_sidebar": "Contents",
   "toc_cell": false,
   "toc_position": {},
   "toc_section_display": true,
   "toc_window_display": false
  }
 },
 "nbformat": 4,
 "nbformat_minor": 2
}
