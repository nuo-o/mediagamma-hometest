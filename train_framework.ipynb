{
 "cells": [
  {
   "cell_type": "code",
   "execution_count": 1,
   "metadata": {},
   "outputs": [],
   "source": [
    "from my_packages import *\n",
    "%matplotlib inline\n",
    "\n",
    "data_folder = './data/'\n",
    "pd.options.mode.chained_assignment = None\n",
    "time_tracking = Time_Tracking()"
   ]
  },
  {
   "cell_type": "markdown",
   "metadata": {},
   "source": [
    "# prepare data"
   ]
  },
  {
   "cell_type": "code",
   "execution_count": 2,
   "metadata": {},
   "outputs": [
    {
     "name": "stdout",
     "output_type": "stream",
     "text": [
      "Time used: 0.0  minutes\n"
     ]
    }
   ],
   "source": [
    "time_tracking.start_tracking()\n",
    "train_raw = pd.read_csv(data_folder + 'train_sample.csv')\n",
    "gc.collect()\n",
    "time_tracking.stop_tracking()"
   ]
  },
  {
   "cell_type": "code",
   "execution_count": 3,
   "metadata": {},
   "outputs": [
    {
     "data": {
      "text/plain": [
       "0"
      ]
     },
     "execution_count": 3,
     "metadata": {},
     "output_type": "execute_result"
    }
   ],
   "source": [
    "# train, evaluate split \n",
    "data_index = np.arange(len(train_raw))\n",
    "np.random.seed(123)\n",
    "np.random.shuffle(data_index)\n",
    "\n",
    "split_index = int(len(train_raw) * 0.7)\n",
    "train_df, evaluate_df = train_raw.iloc[data_index[:split_index]], train_raw.iloc[data_index[split_index:]]\n",
    "gc.collect()"
   ]
  },
  {
   "cell_type": "markdown",
   "metadata": {},
   "source": [
    "# train and cross-validate"
   ]
  },
  {
   "cell_type": "code",
   "execution_count": 4,
   "metadata": {},
   "outputs": [
    {
     "name": "stdout",
     "output_type": "stream",
     "text": [
      "Time used: 0.0  minutes\n"
     ]
    }
   ],
   "source": [
    "time_tracking.start_tracking()\n",
    "\n",
    "our_model = MyXgbModel()\n",
    "make_feat_param = {'sample_ratio':1, 'has_target':True, 'do_sample':True}\n",
    "\n",
    "train_feat = our_model.make_feat_pipeline(train_df, make_feat_param)\n",
    "gc.collect()\n",
    "\n",
    "time_tracking.stop_tracking()"
   ]
  },
  {
   "cell_type": "code",
   "execution_count": 5,
   "metadata": {},
   "outputs": [
    {
     "name": "stdout",
     "output_type": "stream",
     "text": [
      "train cross-validation auc = 0.9523\n"
     ]
    }
   ],
   "source": [
    "train_param = {'eval_metric':'auc'}\n",
    "train_x = train_feat.drop(['is_attributed', 'attributed_time'], axis =1)\n",
    "train_y = train_feat['is_attributed']\n",
    "\n",
    "train_cv, feat_importance = our_model.train(train_x, train_y, train_param)\n",
    "gc.collect()\n",
    "print('train cross-validation auc = {}'.format(round(train_cv,4)))"
   ]
  },
  {
   "cell_type": "code",
   "execution_count": 6,
   "metadata": {},
   "outputs": [
    {
     "name": "stdout",
     "output_type": "stream",
     "text": [
      "Time used: 0.01  minutes\n"
     ]
    },
    {
     "data": {
      "image/png": "[encoded data removed]",
      "text/plain": [
       "<matplotlib.figure.Figure at 0x1139782b0>"
      ]
     },
     "metadata": {},
     "output_type": "display_data"
    }
   ],
   "source": [
    "plt.bar(range(len(feat_importance)), feat_importance)\n",
    "plt.xticks(range(len(feat_importance)), train_x.columns, rotation='vertical')\n",
    "plt.title('feature importance')\n",
    "\n",
    "time_tracking.stop_tracking()"
   ]
  },
  {
   "cell_type": "markdown",
   "metadata": {},
   "source": [
    "# hyper-tune"
   ]
  },
  {
   "cell_type": "code",
   "execution_count": 7,
   "metadata": {},
   "outputs": [
    {
     "name": "stdout",
     "output_type": "stream",
     "text": [
      "[0.8796122000000001, 0.9049571999999999, 0.8714108000000002, 0.9111560000000001, 0.9268230000000001, 0.8994264, 0.899813, 0.9290108, 0.9207288, 0.9151372]\n"
     ]
    },
    {
     "data": {
      "image/png": "[encoded data removed]",
      "text/plain": [
       "<matplotlib.figure.Figure at 0x116136358>"
      ]
     },
     "metadata": {},
     "output_type": "display_data"
    }
   ],
   "source": [
    "tune_auc = []\n",
    "tune_range = np.arange(1, 11)\n",
    "\n",
    "for sample_ratio in tune_range:\n",
    "\n",
    "    make_feat_param = {'sample_ratio':sample_ratio, 'has_target':True, 'do_sample':True}\n",
    "\n",
    "    our_model = MyXgbModel()\n",
    "    evaluate_feat = our_model.make_feat_pipeline(evaluate_df, make_feat_param)\n",
    "    x = evaluate_feat.drop(['is_attributed', 'attributed_time'], axis = 1)\n",
    "    y = evaluate_feat['is_attributed']\n",
    "\n",
    "    param = {'eval_metric':'auc'}\n",
    "    train_cv, _ = our_model.train(x, y, param)\n",
    "\n",
    "    tune_auc.extend([train_cv])\n",
    "\n",
    "plt.figure()\n",
    "plt.plot(tune_range, tune_auc)\n",
    "plt.xticks(tune_range)\n",
    "plt.title('tune down-sample ratio')\n",
    "\n",
    "print(tune_auc)"
   ]
  },
  {
   "cell_type": "markdown",
   "metadata": {},
   "source": [
    "# test"
   ]
  },
  {
   "cell_type": "code",
   "execution_count": 8,
   "metadata": {},
   "outputs": [
    {
     "name": "stdout",
     "output_type": "stream",
     "text": [
      "Time used: 0.29  minutes\n"
     ]
    }
   ],
   "source": [
    "# read test raw file\n",
    "time_tracking.start_tracking()\n",
    "test_raw = pd.read_csv(data_folder + 'test.csv')\n",
    "time_tracking.stop_tracking()"
   ]
  },
  {
   "cell_type": "code",
   "execution_count": 18,
   "metadata": {},
   "outputs": [
    {
     "name": "stdout",
     "output_type": "stream",
     "text": [
      "Time used: 19.73  minutes\n"
     ]
    }
   ],
   "source": [
    "time_tracking.start_tracking()\n",
    "make_feat_param['do_sample'] = False\n",
    "test_feat = our_model.make_feat_pipeline(test_raw, make_feat_param)\n",
    "time_tracking.stop_tracking()"
   ]
  },
  {
   "cell_type": "code",
   "execution_count": 20,
   "metadata": {},
   "outputs": [
    {
     "name": "stdout",
     "output_type": "stream",
     "text": [
      "Time used: 0.84  minutes\n"
     ]
    }
   ],
   "source": [
    "time_tracking.start_tracking()\n",
    "prediction = our_model.predict(test_feat.drop(['click_id'], axis =1))\n",
    "time_tracking.stop_tracking()"
   ]
  },
  {
   "cell_type": "code",
   "execution_count": null,
   "metadata": {},
   "outputs": [],
   "source": [
    "time_tracking.start_tracking()\n",
    "result = pd.DataFrame({'click_id':test_raw['click_id'], 'is_attributed':prediction})\n",
    "result.to_csv(data_folder + 'result.csv', index = False)\n",
    "time_tracking.stop_tracking()"
   ]
  },
  {
   "cell_type": "code",
   "execution_count": null,
   "metadata": {},
   "outputs": [],
   "source": []
  }
 ],
 "metadata": {
  "kernelspec": {
   "display_name": "Python 3",
   "language": "python",
   "name": "python3"
  },
  "language_info": {
   "codemirror_mode": {
    "name": "ipython",
    "version": 3
   },
   "file_extension": ".py",
   "mimetype": "text/x-python",
   "name": "python",
   "nbconvert_exporter": "python",
   "pygments_lexer": "ipython3",
   "version": "3.6.2"
  },
  "toc": {
   "base_numbering": 1,
   "nav_menu": {},
   "number_sections": true,
   "sideBar": true,
   "skip_h1_title": false,
   "title_cell": "Table of Contents",
   "title_sidebar": "Contents",
   "toc_cell": false,
   "toc_position": {},
   "toc_section_display": true,
   "toc_window_display": false
  }
 },
 "nbformat": 4,
 "nbformat_minor": 2
}
